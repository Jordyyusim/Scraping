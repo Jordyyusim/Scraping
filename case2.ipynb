{
 "cells": [
  {
   "cell_type": "code",
   "execution_count": null,
   "metadata": {},
   "outputs": [],
   "source": [
    "from bs4 import BeautifulSoup\n",
    "import requests\n",
    "url = 'http://www.scifijapan.com/articles/2015/10/04/bandai-ultraman-ultra-500-figure-list/'\n",
    "html = requests.get(url)\n",
    "a = BeautifulSoup(html.content, 'html.parser')\n",
    "b = a.find_all(\"strong\")\n",
    "# for i in b:\n",
    "    # print(i.text)\n",
    "\n",
    "ultras = []\n",
    "for j in b[2:36]:\n",
    "    ultras.append(j.text)\n",
    "print(ultras)\n",
    "\n",
    "monsters = []\n",
    "for k in b[37:110]:\n",
    "    monsters.append(k.text)\n",
    "print(monsters)"
   ]
  }
 ],
 "metadata": {
  "kernelspec": {
   "display_name": "Python 3",
   "language": "python",
   "name": "python3"
  },
  "language_info": {
   "codemirror_mode": {
    "name": "ipython",
    "version": 3
   },
   "file_extension": ".py",
   "mimetype": "text/x-python",
   "name": "python",
   "nbconvert_exporter": "python",
   "pygments_lexer": "ipython3",
   "version": "3.8.1"
  }
 },
 "nbformat": 4,
 "nbformat_minor": 4
}
